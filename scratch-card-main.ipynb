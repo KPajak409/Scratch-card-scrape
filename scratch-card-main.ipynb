{
 "cells": [
  {
   "cell_type": "code",
   "execution_count": 1,
   "metadata": {},
   "outputs": [],
   "source": [
    "import requests\n",
    "import time\n",
    "from bs4 import BeautifulSoup \n",
    "from selenium import webdriver\n",
    "import re\n",
    "from db_context import MongoDb\n",
    "headers = {\"User-Agent\": 'Mozilla/5.0 (Windows NT 10.0; Win64; x64) AppleWebKit/537.36 (KHTML, like Gecko) Chrome/113.0.0.0 Safari/537.36 OPR/99.0.0.0'}\n",
    "#&index [1-7]\n",
    "scratch_list_url = 'https://www.lotto.pl/api/lotteries/zdrapki?name=&status=&yearSalesEnd=&page=70&scratchStatuses=Standard,Novelity,LastChance,Announcement,SalesEnd,Debut&index=1&size=12&sort=DateSalesUtc&order=DESC'"
   ]
  },
  {
   "cell_type": "code",
   "execution_count": null,
   "metadata": {},
   "outputs": [],
   "source": [
    "#read info about newest scratch cards\n",
    "response = requests.get(scratch_list_url, headers=headers)\n",
    "print(response.status_code, response.reason)\n",
    "scratch_cards_data = response.json()"
   ]
  },
  {
   "cell_type": "code",
   "execution_count": null,
   "metadata": {},
   "outputs": [],
   "source": [
    "#save result to avoid creating more requests\n",
    "import json\n",
    "with open('scratch_card.json', 'w') as outfile:\n",
    "    json.dump(scratch_cards_data, outfile)"
   ]
  },
  {
   "cell_type": "code",
   "execution_count": 7,
   "metadata": {},
   "outputs": [
    {
     "name": "stdout",
     "output_type": "stream",
     "text": [
      "<class 'dict'> {'totalRows': 79, 'items': [{'result': {'displayContent': True, 'highestWin': None, 'popularity': 175, 'status': 'Announcement', 'number': 689, 'drawPrice': 2, 'pictureUrl': 'storage/files/2023/7/18/105c82ff-3082-41b5-8b40-92ce4c276a07/news_600x340.png', 'name': 'MIĘTOWA KASA', 'id': 1323, 'hit': False, 'dateSales': '2023-08-02T22:00:00Z', 'dateSalesEnd': None}, 'meta': {'url': '/zdrapki/katalog-zdrapek/mietowa-kasa,1323'}, 'code': 200}, {'result': {'displayContent': True, 'highestWin': 200000, 'popularity': 649, 'status': 'Debut', 'number': 687, 'drawPrice': 5, 'pictureUrl': 'storage/files/2023/7/5/4b009cb6-e8da-4be2-b5da-0d48ae7456be/news_600x340.png', 'name': 'WALIZKA PIENIĘDZY', 'id': 1322, 'hit': False, 'dateSales': '2023-07-19T22:00:00Z', 'dateSalesEnd': None}, 'meta': {'url': '/zdrapki/katalog-zdrapek/walizka-pieniedzy,1322'}, 'code': 200}, {'result': {'displayContent': True, 'highestWin': 500000, 'popularity': 760, 'status': 'Novelity', 'number': 686, 'drawPrice': 10, 'pictureUrl': 'storage/files/2023/6/22/ff80f17b-025e-4b0e-a503-052768d48e84/600x340.png', 'name': 'JADĘ DO VEGAS', 'id': 1321, 'hit': False, 'dateSales': '2023-07-12T22:00:00Z', 'dateSalesEnd': None}, 'meta': {'url': '/zdrapki/katalog-zdrapek/jade-do-vegas,1321'}, 'code': 200}, {'result': {'displayContent': True, 'highestWin': 150000, 'popularity': 687, 'status': 'Novelity', 'number': 690, 'drawPrice': 10, 'pictureUrl': 'storage/files/2023/6/21/cdeed5ca-f76a-404a-b66c-668675975e12/news_600x340.png', 'name': 'KRZYŻÓWKA XXL', 'id': 1320, 'hit': False, 'dateSales': '2023-07-05T22:00:00Z', 'dateSalesEnd': None}, 'meta': {'url': '/zdrapki/katalog-zdrapek/krzyzowka-xxl,1320'}, 'code': 200}, {'result': {'displayContent': True, 'highestWin': 36000, 'popularity': 1409, 'status': 'Standard', 'number': 685, 'drawPrice': 3, 'pictureUrl': 'storage/files/2023/6/6/d31fbb98-0a22-415e-b87d-881ccedd06da/600x340.png', 'name': 'SZCZĘŚLIWE LINIE', 'id': 1319, 'hit': False, 'dateSales': '2023-06-14T22:00:00Z', 'dateSalesEnd': None}, 'meta': {'url': '/zdrapki/katalog-zdrapek/szczesliwe-linie,1319'}, 'code': 200}, {'result': {'displayContent': True, 'highestWin': 1000000, 'popularity': 1043, 'status': 'Standard', 'number': 684, 'drawPrice': 20, 'pictureUrl': 'storage/files/2023/5/31/3a7d5864-81bc-4a68-b4db-7c1914eb2264/600x340.png', 'name': 'SUPER MEGA PENSJA', 'id': 1318, 'hit': False, 'dateSales': '2023-06-06T22:00:00Z', 'dateSalesEnd': None}, 'meta': {'url': '/zdrapki/katalog-zdrapek/super-mega-pensja,1318'}, 'code': 200}, {'result': {'displayContent': True, 'highestWin': 200000, 'popularity': 1035, 'status': 'Standard', 'number': 683, 'drawPrice': 5, 'pictureUrl': 'storage/files/2023/5/25/943c6fbc-a73e-4261-8f2b-fc0cb0a40911/600x340.png', 'name': 'LUCKY DAY', 'id': 1317, 'hit': True, 'dateSales': '2023-05-31T22:00:00Z', 'dateSalesEnd': None}, 'meta': {'url': '/zdrapki/katalog-zdrapek/lucky-day,1317'}, 'code': 200}, {'result': {'displayContent': True, 'highestWin': 72000, 'popularity': 2107, 'status': 'Standard', 'number': 682, 'drawPrice': 2, 'pictureUrl': 'storage/files/2023/5/11/31a6011e-0aeb-4b2c-aa1f-3b835decc201/600x340_.png', 'name': 'PENSJA', 'id': 1316, 'hit': False, 'dateSales': '2023-05-24T22:00:00Z', 'dateSalesEnd': None}, 'meta': {'url': '/zdrapki/katalog-zdrapek/pensja,1316'}, 'code': 200}, {'result': {'displayContent': True, 'highestWin': 200000, 'popularity': 1220, 'status': 'Standard', 'number': 681, 'drawPrice': 5, 'pictureUrl': 'storage/files/2023/5/5/bfd84632-8fa6-46a2-8f20-17d82e6e2704/600x340.png', 'name': 'KIERUNEK KASA', 'id': 1315, 'hit': False, 'dateSales': '2023-05-17T22:00:00Z', 'dateSalesEnd': None}, 'meta': {'url': '/zdrapki/katalog-zdrapek/kierunek-kasa,1315'}, 'code': 200}, {'result': {'displayContent': True, 'highestWin': 500000, 'popularity': 1046, 'status': 'Standard', 'number': 680, 'drawPrice': 10, 'pictureUrl': 'storage/files/2023/4/26/920cd3af-f0b2-4974-b78a-2ce563f51cdb/600x340.png', 'name': 'SUPER BONUS', 'id': 1313, 'hit': False, 'dateSales': '2023-05-08T22:00:00Z', 'dateSalesEnd': None}, 'meta': {'url': '/zdrapki/katalog-zdrapek/super-bonus,1313'}, 'code': 200}, {'result': {'displayContent': True, 'highestWin': 40000, 'popularity': 972, 'status': 'Standard', 'number': 679, 'drawPrice': 3, 'pictureUrl': 'storage/files/2023/4/28/e16d20c4-a8cd-4278-b7d1-3f42cc4d43b9/600x340.png', 'name': 'KRZYŻÓWKA', 'id': 1314, 'hit': False, 'dateSales': '2023-05-03T22:00:00Z', 'dateSalesEnd': None}, 'meta': {'url': '/zdrapki/katalog-zdrapek/krzyzowka,1314'}, 'code': 200}, {'result': {'displayContent': True, 'highestWin': 208000, 'popularity': 2068, 'status': 'Standard', 'number': 678, 'drawPrice': 5, 'pictureUrl': 'storage/files/2023/4/11/fb73d15b-c3c3-45b5-81b1-967fd0e5b42b/news_600x340.png', 'name': 'EKSTRA PENSJA', 'id': 1312, 'hit': False, 'dateSales': '2023-04-26T22:00:00Z', 'dateSalesEnd': None}, 'meta': {'url': '/zdrapki/katalog-zdrapek/ekstra-pensja,1312'}, 'code': 200}], 'meta': {'pagerUrl': '/zdrapki/katalog-zdrapek/page,{0}'}, 'code': 200}\n"
     ]
    }
   ],
   "source": [
    "import json\n",
    "with open('scratch_card.json') as json_file:\n",
    "    scratch_cards_data = json.load(json_file)\n",
    "    print(type(scratch_cards_data), scratch_cards_data)"
   ]
  },
  {
   "cell_type": "code",
   "execution_count": 9,
   "metadata": {},
   "outputs": [],
   "source": [
    "def get_scratch_card_info(scratch_card_name, scratch_card_url):\n",
    "    \n",
    "\n",
    "    #read info about single scratch_card\n",
    "    driver = webdriver.Chrome()\n",
    "    driver.get('https://www.lotto.pl'+scratch_card_url)\n",
    "    content = driver.page_source\n",
    "    time.sleep(1)\n",
    "    driver.close()\n",
    "    soup = BeautifulSoup(content)\n",
    "    res = soup.find(string=re.compile('wygrane:')).get_text().replace('\\xa0', '')\n",
    "    pot, circulation = re.findall('(\\d+)', res)\n",
    "\n",
    "    scratch_card = {'name': scratch_card_name,\n",
    "                    'url': scratch_card_url,\n",
    "                    'pot': pot,\n",
    "                    'circulation': circulation,\n",
    "                    'win_values': [],\n",
    "                    'n_wins': [],\n",
    "                    'wins_left': []\n",
    "                    }\n",
    "\n",
    "    table = soup.select('table td')\n",
    "\n",
    "    scratch_card['win_values'] = [ table[i].get_text().replace('\\xa0', '').replace('zł', '').strip() for i in range(3, len(table),3)]\n",
    "    scratch_card['n_wins'] = [table[i].get_text() for i in range(4, len(table),3)]\n",
    "    scratch_card['wins_left'] = [table[i].get_text() for i in range(5, len(table),3)]\n",
    "    return scratch_card"
   ]
  },
  {
   "cell_type": "code",
   "execution_count": 10,
   "metadata": {},
   "outputs": [
    {
     "name": "stdout",
     "output_type": "stream",
     "text": [
      "MIĘTOWA KASA /zdrapki/katalog-zdrapek/mietowa-kasa,1323\n"
     ]
    }
   ],
   "source": [
    "name = scratch_cards_data['items'][0]['result']['name']\n",
    "url = scratch_cards_data['items'][0]['meta']['url']\n",
    "print(name, url)\n",
    "result = get_scratch_card_info(name, url)"
   ]
  },
  {
   "cell_type": "code",
   "execution_count": 11,
   "metadata": {},
   "outputs": [
    {
     "name": "stdout",
     "output_type": "stream",
     "text": [
      "{'name': 'MIĘTOWA KASA', 'url': '/zdrapki/katalog-zdrapek/mietowa-kasa,1323', 'pot': '22438500', 'circulation': '21000000', 'win_values': ['44000', '1000', '100', '50', '20', '10', '5', '2'], 'n_wins': ['14', '210', '5600', '42000', '315000', '210000', '577500', '3832500'], 'wins_left': ['14', '210', '5600', '42000', '315000', '210000', '577500', '3832500']}\n",
      "64ba7fe6a3de908d2d713d03\n"
     ]
    }
   ],
   "source": [
    "db = MongoDb('mongodb://localhost:27017')\n",
    "\n",
    "print(result)\n",
    "print(db.insert_one(result))"
   ]
  },
  {
   "cell_type": "code",
   "execution_count": 12,
   "metadata": {},
   "outputs": [],
   "source": [
    "for item in scratch_cards_data['items']:\n",
    "    name = item['result']['name']\n",
    "    url = item['meta']['url']\n",
    "    result = get_scratch_card_info(name, url)\n",
    "    db.insert_one(result)\n"
   ]
  },
  {
   "cell_type": "code",
   "execution_count": null,
   "metadata": {},
   "outputs": [],
   "source": []
  }
 ],
 "metadata": {
  "kernelspec": {
   "display_name": "Python 3",
   "language": "python",
   "name": "python3"
  },
  "language_info": {
   "codemirror_mode": {
    "name": "ipython",
    "version": 3
   },
   "file_extension": ".py",
   "mimetype": "text/x-python",
   "name": "python",
   "nbconvert_exporter": "python",
   "pygments_lexer": "ipython3",
   "version": "3.9.13"
  },
  "orig_nbformat": 4
 },
 "nbformat": 4,
 "nbformat_minor": 2
}
