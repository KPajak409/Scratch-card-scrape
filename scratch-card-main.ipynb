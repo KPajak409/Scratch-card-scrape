{
 "cells": [
  {
   "cell_type": "code",
   "execution_count": 1,
   "metadata": {},
   "outputs": [
    {
     "name": "stdout",
     "output_type": "stream",
     "text": [
      "None\n"
     ]
    }
   ],
   "source": [
    "import requests\n",
    "import time\n",
    "from bs4 import BeautifulSoup \n",
    "from selenium import webdriver\n",
    "import re\n",
    "from db_context import insert_one\n",
    "headers = {\"User-Agent\": 'Mozilla/5.0 (Windows NT 10.0; Win64; x64) AppleWebKit/537.36 (KHTML, like Gecko) Chrome/113.0.0.0 Safari/537.36 OPR/99.0.0.0'}\n",
    "#&index [1-7]\n",
    "scratch_list_url = 'https://www.lotto.pl/api/lotteries/zdrapki?name=&status=&yearSalesEnd=&page=70&scratchStatuses=Standard,Novelity,LastChance,Announcement,SalesEnd,Debut&index=1&size=12&sort=DateSalesUtc&order=DESC'"
   ]
  },
  {
   "cell_type": "code",
   "execution_count": 3,
   "metadata": {},
   "outputs": [
    {
     "name": "stdout",
     "output_type": "stream",
     "text": [
      "200 OK\n"
     ]
    }
   ],
   "source": [
    "#read info about newest scratch cards\n",
    "response = requests.get(scratch_list_url, headers=headers)\n",
    "print(response.status_code, response.reason)\n",
    "scratch_cards_data = response.json()"
   ]
  },
  {
   "cell_type": "code",
   "execution_count": 14,
   "metadata": {},
   "outputs": [],
   "source": [
    "def get_scratch_card_info(scratch_card_name, scratch_card_url):\n",
    "    \n",
    "\n",
    "    #read info about single scratch_card\n",
    "    driver = webdriver.Chrome()\n",
    "    driver.get('https://www.lotto.pl'+scratch_card_url)\n",
    "    content = driver.page_source\n",
    "    driver.close()\n",
    "\n",
    "    soup = BeautifulSoup(content)\n",
    "    strongs = soup.find_all('strong')[9].get_text().replace('\\xa0', '')\n",
    "    pot, circulation = re.findall('(\\d+)',strongs)\n",
    "\n",
    "    scratch_card = {'name': scratch_card_name,\n",
    "                    'url': scratch_card_url,\n",
    "                    'pot': pot,\n",
    "                    'circulation': circulation,\n",
    "                    'win_values': [],\n",
    "                    'n_wins': [],\n",
    "                    'wins_left': []\n",
    "                    }\n",
    "\n",
    "    table = soup.select('table td')\n",
    "\n",
    "    scratch_card['win_value'] = [ table[i].get_text().replace('\\xa0', '').replace('zł', '').strip() for i in range(3, len(table),3)]\n",
    "    scratch_card['n_wins'] = [table[i].get_text() for i in range(4, len(table),3) ]\n",
    "    scratch_card['wins_left'] = [table[i].get_text() for i in range(5, len(table),3) ]\n",
    "    return scratch_card\n",
    "\n"
   ]
  },
  {
   "cell_type": "code",
   "execution_count": 19,
   "metadata": {},
   "outputs": [
    {
     "name": "stdout",
     "output_type": "stream",
     "text": [
      "MIĘTOWA KASA\n"
     ]
    }
   ],
   "source": [
    "print(scratch_cards_data['items'][0]['result']['name'])"
   ]
  },
  {
   "cell_type": "code",
   "execution_count": 15,
   "metadata": {},
   "outputs": [
    {
     "name": "stdout",
     "output_type": "stream",
     "text": [
      "{'name': ('MIĘTOWA KASA',), 'url': '/zdrapki/katalog-zdrapek/mietowa-kasa,1323', 'pot': '22438500', 'circulation': '21000000', 'win_values': [], 'n_wins': ['14', '210', '5600', '42000', '315000', '210000', '577500', '3832500'], 'wins_left': ['14', '210', '5600', '42000', '315000', '210000', '577500', '3832500'], 'win_value': ['44000', '1000', '100', '50', '20', '10', '5', '2']}\n"
     ]
    }
   ],
   "source": [
    "name = scratch_cards_data['items'][0]['result']['name']\n",
    "url = scratch_cards_data['items'][0]['meta']['url']\n",
    "\n",
    "result = get_scratch_card_info(name, url)\n",
    "\n",
    "print(result)\n",
    "\n",
    "\n"
   ]
  },
  {
   "cell_type": "code",
   "execution_count": 16,
   "metadata": {},
   "outputs": [
    {
     "name": "stdout",
     "output_type": "stream",
     "text": [
      "64b9694fe93ffd8249b61b10\n"
     ]
    }
   ],
   "source": [
    "print(insert_one(result))"
   ]
  }
 ],
 "metadata": {
  "kernelspec": {
   "display_name": "Python 3",
   "language": "python",
   "name": "python3"
  },
  "language_info": {
   "codemirror_mode": {
    "name": "ipython",
    "version": 3
   },
   "file_extension": ".py",
   "mimetype": "text/x-python",
   "name": "python",
   "nbconvert_exporter": "python",
   "pygments_lexer": "ipython3",
   "version": "3.9.13"
  },
  "orig_nbformat": 4
 },
 "nbformat": 4,
 "nbformat_minor": 2
}
