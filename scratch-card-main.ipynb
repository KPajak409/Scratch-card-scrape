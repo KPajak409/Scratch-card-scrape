{
 "cells": [
  {
   "cell_type": "code",
   "execution_count": 1,
   "metadata": {},
   "outputs": [],
   "source": [
    "import requests\n",
    "import time\n",
    "from bs4 import BeautifulSoup \n",
    "from selenium import webdriver\n",
    "\n",
    "headers = {\"User-Agent\": 'Mozilla/5.0 (Windows NT 10.0; Win64; x64) AppleWebKit/537.36 (KHTML, like Gecko) Chrome/113.0.0.0 Safari/537.36 OPR/99.0.0.0'}\n",
    "scratch_url = 'https://www.lotto.pl/zdrapki/katalog-zdrapek/mietowa-kasa,1323'\n",
    "\n",
    "\n",
    "driver = webdriver.Chrome()\n",
    "driver.get(scratch_url)\n",
    "content = driver.page_source\n",
    "\n",
    "\n"
   ]
  },
  {
   "cell_type": "code",
   "execution_count": null,
   "metadata": {},
   "outputs": [],
   "source": [
    "import re\n",
    "\n",
    "soup = BeautifulSoup(content)\n",
    "\n",
    "strongs = soup.find_all('strong')[9].get_text().replace('\\xa0', '')\n",
    "pot, circulation = re.findall('(\\d+)',strongs)\n",
    "\n",
    "print(pot, circulation)"
   ]
  },
  {
   "cell_type": "code",
   "execution_count": null,
   "metadata": {},
   "outputs": [],
   "source": [
    "\n",
    "table = soup.select('table td')\n",
    "table_values = {'win_value': [],\n",
    "                'n_wins': [],\n",
    "                'wins_left': [],\n",
    "                'pot': pot,\n",
    "                'circulation': circulation}\n",
    "\n",
    "table_values['win_value'] = [ table[i].get_text().replace('\\xa0', '').replace('zł', '').strip() for i in range(3, len(table),3)]\n",
    "table_values['n_wins'] = [table[i].get_text() for i in range(4, len(table),3) ]\n",
    "table_values['wins_left'] = [table[i].get_text() for i in range(5, len(table),3) ]\n",
    "print(table_values['win_value'], table_values['n_wins'], table_values['wins_left'])\n",
    "\n",
    "scratch_card = {'mietowa_kasa': table_values}\n",
    "print(scratch_card)"
   ]
  }
 ],
 "metadata": {
  "kernelspec": {
   "display_name": "Python 3",
   "language": "python",
   "name": "python3"
  },
  "language_info": {
   "codemirror_mode": {
    "name": "ipython",
    "version": 3
   },
   "file_extension": ".py",
   "mimetype": "text/x-python",
   "name": "python",
   "nbconvert_exporter": "python",
   "pygments_lexer": "ipython3",
   "version": "3.9.13"
  },
  "orig_nbformat": 4
 },
 "nbformat": 4,
 "nbformat_minor": 2
}
