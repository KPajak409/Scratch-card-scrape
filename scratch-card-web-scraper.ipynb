{
 "cells": [
  {
   "cell_type": "code",
   "execution_count": 1,
   "metadata": {},
   "outputs": [],
   "source": [
    "import random\n",
    "import time\n",
    "from bs4 import BeautifulSoup \n",
    "import re\n",
    "from MongoDb import MongoDb\n",
    "from datetime import datetime\n",
    "from selenium import webdriver\n",
    "from selenium.webdriver.support.ui import WebDriverWait\n",
    "from selenium.webdriver.common.by import By\n",
    "from selenium.webdriver.support import expected_conditions as EC\n",
    "from selenium.common.exceptions import NoSuchElementException\n",
    "\n",
    "db = MongoDb('mongodb://localhost:27017')"
   ]
  },
  {
   "cell_type": "code",
   "execution_count": null,
   "metadata": {},
   "outputs": [],
   "source": [
    "# scraping names and urls of all cards\n",
    "driver = webdriver.Chrome()\n",
    "\n",
    "def check_exists_by_xpath(xpath):\n",
    "    try:\n",
    "        driver.find_element(By.XPATH, '/html/body/div[1]/div/div/div[2]/div/div[3]/div/div[3]/button')\n",
    "    except NoSuchElementException:\n",
    "        return False\n",
    "    return True\n",
    "\n",
    "driver.get('https://www.lotto.pl/zdrapki/katalog-zdrapek')\n",
    "WebDriverWait(driver, 2000).until(EC.element_to_be_clickable((By.XPATH, '/html/body/div[1]/div/div/div[2]/div/div[4]/div[2]/div[3]/div/button'))).click()\n",
    "WebDriverWait(driver, 2000).until(EC.element_to_be_clickable((By.XPATH, '/html/body/div[1]/div/div/div[2]/div/div[2]/div/div/div[2]/button'))).click()\n",
    "time.sleep(3)\n",
    "\n",
    "while(check_exists_by_xpath('/html/body/div[1]/div/div/div[2]/div/div[3]/div/div[3]/button')):\n",
    "    WebDriverWait(driver, 2000).until(EC.element_to_be_clickable((By.XPATH, '/html/body/div[1]/div/div/div[2]/div/div[3]/div/div[3]/button'))).click()\n",
    "    time.sleep(1)\n",
    "content = driver.page_source\n",
    "driver.close()\n",
    "soup = BeautifulSoup(content)\n",
    "\n",
    "card_divs = soup.find_all('div', class_='scratch-box__item')\n",
    "card_names_and_urls = []\n",
    "for card in card_divs:\n",
    "    card_url = card.findChild('a').get('href')\n",
    "    card_name = card.findChild('div', class_='scratch-card-item__name').findChild('strong').get_text()\n",
    "    card_names_and_urls.append({'name': card_name, 'url': card_url})\n",
    "print(card_names_and_urls)"
   ]
  },
  {
   "cell_type": "code",
   "execution_count": null,
   "metadata": {},
   "outputs": [],
   "source": [
    "#save result to avoid creating more requests\n",
    "import json\n",
    "with open('scratch_card.json', 'w') as outfile:\n",
    "    json.dump(card_names_and_urls, outfile)"
   ]
  },
  {
   "cell_type": "code",
   "execution_count": 2,
   "metadata": {},
   "outputs": [
    {
     "name": "stdout",
     "output_type": "stream",
     "text": [
      "<class 'list'> [{'name': 'OWOCOWE 8', 'url': '/zdrapki/katalog-zdrapek/owocowe-8,1325'}, {'name': 'MEGA PENSJA', 'url': '/zdrapki/katalog-zdrapek/mega-pensja,1324'}, {'name': 'MIĘTOWA KASA', 'url': '/zdrapki/katalog-zdrapek/mietowa-kasa,1323'}, {'name': 'WALIZKA PIENIĘDZY', 'url': '/zdrapki/katalog-zdrapek/walizka-pieniedzy,1322'}, {'name': 'JADĘ DO VEGAS', 'url': '/zdrapki/katalog-zdrapek/jade-do-vegas,1321'}, {'name': 'KRZYŻÓWKA XXL', 'url': '/zdrapki/katalog-zdrapek/krzyzowka-xxl,1320'}, {'name': 'SZCZĘŚLIWE LINIE', 'url': '/zdrapki/katalog-zdrapek/szczesliwe-linie,1319'}, {'name': 'SUPER MEGA PENSJA', 'url': '/zdrapki/katalog-zdrapek/super-mega-pensja,1318'}, {'name': 'LUCKY DAY', 'url': '/zdrapki/katalog-zdrapek/lucky-day,1317'}, {'name': 'PENSJA', 'url': '/zdrapki/katalog-zdrapek/pensja,1316'}, {'name': 'KIERUNEK KASA', 'url': '/zdrapki/katalog-zdrapek/kierunek-kasa,1315'}, {'name': 'SUPER BONUS', 'url': '/zdrapki/katalog-zdrapek/super-bonus,1313'}, {'name': 'KRZYŻÓWKA', 'url': '/zdrapki/katalog-zdrapek/krzyzowka,1314'}, {'name': 'EKSTRA PENSJA', 'url': '/zdrapki/katalog-zdrapek/ekstra-pensja,1312'}, {'name': 'WIELKA CZARNA PERŁA', 'url': '/zdrapki/katalog-zdrapek/wielka-czarna-perla,1311'}, {'name': 'SUPER 13', 'url': '/zdrapki/katalog-zdrapek/super-13,1310'}, {'name': 'ZODIAK', 'url': '/zdrapki/katalog-zdrapek/zodiak,1309'}, {'name': 'GREEN MONEY', 'url': '/zdrapki/katalog-zdrapek/green-money,1308'}, {'name': 'GORĄCZKA ZŁOTA', 'url': '/zdrapki/katalog-zdrapek/goraczka-zlota,1307'}, {'name': 'RAJSKA KASA', 'url': '/zdrapki/katalog-zdrapek/rajska-kasa,1306'}, {'name': '1 000 000 ZŁ W CASHU', 'url': '/zdrapki/katalog-zdrapek/1-000-000-zl-w-cashu,1305'}, {'name': 'RÓŻOWE DIAMENTOWE 7', 'url': '/zdrapki/katalog-zdrapek/rozowe-diamentowe-7,1304'}, {'name': 'PISANKA', 'url': '/zdrapki/katalog-zdrapek/pisanka,1303'}, {'name': 'MAGNETYCZNE 5', 'url': '/zdrapki/katalog-zdrapek/magnetyczne-5,1302'}, {'name': 'SUPER 7', 'url': '/zdrapki/katalog-zdrapek/super-7,1301'}, {'name': 'DIAMENTOWY MILION', 'url': '/zdrapki/katalog-zdrapek/diamentowy-milion,1300'}, {'name': 'KRZYŻÓWKA XL', 'url': '/zdrapki/katalog-zdrapek/krzyzowka-xl,1299'}, {'name': 'BIG 777', 'url': '/zdrapki/katalog-zdrapek/big-777,1297'}, {'name': 'DUUUŻO KASY', 'url': '/zdrapki/katalog-zdrapek/duuuzo-kasy,1298'}, {'name': 'SUPER LINIE', 'url': '/zdrapki/katalog-zdrapek/super-linie,1296'}, {'name': 'KOPALNIA RUBINÓW', 'url': '/zdrapki/katalog-zdrapek/kopalnia-rubinow,1295'}, {'name': 'MOC SZCZĘŚCIA', 'url': '/zdrapki/katalog-zdrapek/moc-szczescia,1294'}, {'name': 'BAJECZNA KASA', 'url': '/zdrapki/katalog-zdrapek/bajeczna-kasa,1291'}, {'name': 'PIENIĘDZY JAK LODU', 'url': '/zdrapki/katalog-zdrapek/pieniedzy-jak-lodu,1293'}, {'name': 'KOSMICZNE 7', 'url': '/zdrapki/katalog-zdrapek/kosmiczne-7,1290'}, {'name': 'CRYSTAL CASH', 'url': '/zdrapki/katalog-zdrapek/crystal-cash,1292'}, {'name': 'GWIAZDKA Z NIEBA', 'url': '/zdrapki/katalog-zdrapek/gwiazdka-z-nieba,1288'}, {'name': 'DE LUXE 7', 'url': '/zdrapki/katalog-zdrapek/de-luxe-7,1289'}, {'name': 'OWOCOWA EKSPLOZJA', 'url': '/zdrapki/katalog-zdrapek/owocowa-eksplozja,1285'}, {'name': 'EXTRA LINIE', 'url': '/zdrapki/katalog-zdrapek/extra-linie,1286'}, {'name': 'MEGA LINIE', 'url': '/zdrapki/katalog-zdrapek/mega-linie,1287'}, {'name': 'I ♥ NEON CASH', 'url': '/zdrapki/katalog-zdrapek/i-neon-cash,1282'}, {'name': 'STAROŻYTNY SKARB', 'url': '/zdrapki/katalog-zdrapek/starozytny-skarb,1283'}, {'name': 'SREBRO I ZŁOTO', 'url': '/zdrapki/katalog-zdrapek/srebro-i-zloto,1281'}, {'name': 'LAWENDOWE 9', 'url': '/zdrapki/katalog-zdrapek/lawendowe-9,1277'}, {'name': 'WYGRYWAMY!', 'url': '/zdrapki/katalog-zdrapek/wygrywamy,1280'}, {'name': 'ZDRAPKOWY MILIONER', 'url': '/zdrapki/katalog-zdrapek/zdrapkowy-milioner,1278'}, {'name': '500 000 ZŁ W BANKU', 'url': '/zdrapki/katalog-zdrapek/500-000-zl-w-banku,1276'}, {'name': 'KONICZYNKA', 'url': '/zdrapki/katalog-zdrapek/koniczynka,1274'}, {'name': 'PŁYNNE ZŁOTO', 'url': '/zdrapki/katalog-zdrapek/plynne-zloto,1275'}, {'name': 'PRZYPŁYW KASY', 'url': '/zdrapki/katalog-zdrapek/przyplyw-kasy,1273'}, {'name': 'NEONOWE 7', 'url': '/zdrapki/katalog-zdrapek/neonowe-7,1272'}, {'name': '1 000 000 ZŁ W BANKU', 'url': '/zdrapki/katalog-zdrapek/1-000-000-zl-w-banku,1271'}, {'name': 'CZAS NA PREMIĘ', 'url': '/zdrapki/katalog-zdrapek/czas-na-premie,1270'}, {'name': 'PERŁY RUBINY', 'url': '/zdrapki/katalog-zdrapek/perly-rubiny,1269'}, {'name': 'ZIELONA PENSJA', 'url': '/zdrapki/katalog-zdrapek/zielona-pensja,1268'}, {'name': 'KRZYŻÓWKA XXL', 'url': '/zdrapki/katalog-zdrapek/krzyzowka-xxl,1267'}, {'name': 'MEGA PENSJA', 'url': '/zdrapki/katalog-zdrapek/mega-pensja,1266'}, {'name': 'MONEY', 'url': '/zdrapki/katalog-zdrapek/money,1263'}, {'name': 'PREMIA', 'url': '/zdrapki/katalog-zdrapek/premia,1262'}, {'name': 'EXTREMALNE 7', 'url': '/zdrapki/katalog-zdrapek/extremalne-7,1260'}, {'name': 'GÓRA KASY', 'url': '/zdrapki/katalog-zdrapek/gora-kasy,1265'}, {'name': 'BONUS 7', 'url': '/zdrapki/katalog-zdrapek/bonus-7,1257'}, {'name': 'KASA WPADA', 'url': '/zdrapki/katalog-zdrapek/kasa-wpada,1258'}, {'name': 'LUCKY 7', 'url': '/zdrapki/katalog-zdrapek/lucky-7,1247'}, {'name': 'AS KIER', 'url': '/zdrapki/katalog-zdrapek/as-kier,1245'}, {'name': 'ZODIAK', 'url': '/zdrapki/katalog-zdrapek/zodiak,1241'}, {'name': 'MAXI CASH PARTY', 'url': '/zdrapki/katalog-zdrapek/maxi-cash-party,1240'}, {'name': 'PLASTER MIODU', 'url': '/zdrapki/katalog-zdrapek/plaster-miodu,1238'}, {'name': 'GWIEZDNA FORTUNA', 'url': '/zdrapki/katalog-zdrapek/gwiezdna-fortuna,1237'}, {'name': 'DIAMENTOWY LOS', 'url': '/zdrapki/katalog-zdrapek/diamentowy-los,1236'}, {'name': 'LOTEK', 'url': '/zdrapki/katalog-zdrapek/lotek,1232'}, {'name': 'ELEKTRYZUJĄCY CASH', 'url': '/zdrapki/katalog-zdrapek/elektryzujacy-cash,1230'}, {'name': 'KOKOSOWA FORTUNA', 'url': '/zdrapki/katalog-zdrapek/kokosowa-fortuna,1229'}, {'name': 'UŚMIECHNIJ SIĘ', 'url': '/zdrapki/katalog-zdrapek/usmiechnij-sie,1226'}, {'name': 'DESZCZ PIENIĘDZY', 'url': '/zdrapki/katalog-zdrapek/deszcz-pieniedzy,1222'}, {'name': 'CZAS NA KASĘ', 'url': '/zdrapki/katalog-zdrapek/czas-na-kase,1195'}, {'name': 'PEŁNY PORTFEL', 'url': '/zdrapki/katalog-zdrapek/pelny-portfel,994'}, {'name': 'PLAYBOOK 7', 'url': '/zdrapki/katalog-zdrapek/playbook-7,980'}, {'name': 'WIELKA KRZYŻÓWKA', 'url': '/zdrapki/katalog-zdrapek/wielka-krzyzowka,1003'}, {'name': 'BRYLANTY', 'url': '/zdrapki/katalog-zdrapek/brylanty,1023'}]\n"
     ]
    }
   ],
   "source": [
    "#load result\n",
    "import json\n",
    "with open('scratch_card.json') as json_file:\n",
    "    card_names_and_urls = json.load(json_file)\n",
    "    print(type(card_names_and_urls), card_names_and_urls)"
   ]
  },
  {
   "cell_type": "code",
   "execution_count": 3,
   "metadata": {},
   "outputs": [],
   "source": [
    "def get_scratch_card_info(scratch_card_name, scratch_card_url):\n",
    "    #read info about single scratch_card\n",
    "    driver = webdriver.Chrome()\n",
    "    driver.get('https://www.lotto.pl'+scratch_card_url)\n",
    "    content = driver.page_source\n",
    "    time.sleep((random.random()+2)/2)\n",
    "    driver.close()\n",
    "    soup = BeautifulSoup(content)\n",
    "\n",
    "    # scraping information\n",
    "    res = soup.find(string=re.compile('wygrane:')).get_text().replace('\\xa0', '')\n",
    "    pot, circulation = re.findall('(\\d+)', res)\n",
    "\n",
    "    scratch_price_div = soup.find('div', class_='scratch__price')\n",
    "    scratch_price = scratch_price_div.select('strong')[0].get_text().replace('\\xa0', '').replace('zł', '')\n",
    "\n",
    "    date_strong = soup.find('strong', class_='scratch__regulations-disclaimer').get_text()\n",
    "    start_date = re.search(r'(\\d+\\.\\d+\\.\\d+)', date_strong) \n",
    "    start_date = start_date.group(1) + ' 0:00:00'\n",
    "    start_date = datetime.strptime(start_date,'%d.%m.%Y %H:%M:%S')\n",
    "    \n",
    "    scratch_card = {'name': scratch_card_name,\n",
    "                    'url': scratch_card_url,\n",
    "                    'scratch_price': int(scratch_price),\n",
    "                    'total_scratch_price': int(scratch_price)*int(circulation),\n",
    "                    'start_date': start_date,\n",
    "                    'pot': int(pot),\n",
    "                    'circulation': int(circulation),\n",
    "                    'win_values': [],\n",
    "                    'n_wins': [],\n",
    "                    'wins_left': [],\n",
    "                    'last_update': datetime.now()\n",
    "\n",
    "                    }\n",
    "\n",
    "    table = soup.select('table td')\n",
    "\n",
    "    scratch_card['win_values'] = [ int(table[i].get_text().replace('\\xa0', '').replace('zł', '').strip()) for i in range(3, len(table),3)]\n",
    "    scratch_card['n_wins'] = [int(table[i].get_text()) for i in range(4, len(table),3)]\n",
    "    for i in range(5, len(table),3):\n",
    "        text = table[i].get_text()\n",
    "        if text == '-':\n",
    "            text = 0\n",
    "        else:\n",
    "            text = int(text)\n",
    "        scratch_card['wins_left'].append(text)\n",
    "\n",
    "    return scratch_card"
   ]
  },
  {
   "cell_type": "code",
   "execution_count": null,
   "metadata": {},
   "outputs": [],
   "source": [
    "# test\n",
    "name = card_names_and_urls[50]['name']\n",
    "url = card_names_and_urls[50]['url']\n",
    "print(name, url)\n",
    "result = get_scratch_card_info(name, url)\n",
    "print(result)"
   ]
  },
  {
   "cell_type": "code",
   "execution_count": 4,
   "metadata": {},
   "outputs": [
    {
     "name": "stdout",
     "output_type": "stream",
     "text": [
      "<pymongo.results.InsertOneResult object at 0x000001BE4635BEE0> 1\n",
      "<pymongo.results.InsertOneResult object at 0x000001BE4803CC10> 2\n",
      "<pymongo.results.InsertOneResult object at 0x000001BE46374DC0> 3\n",
      "<pymongo.results.InsertOneResult object at 0x000001BE4634FB50> 4\n",
      "<pymongo.results.InsertOneResult object at 0x000001BE480F2CA0> 5\n",
      "<pymongo.results.InsertOneResult object at 0x000001BE47D090D0> 6\n",
      "<pymongo.results.InsertOneResult object at 0x000001BE46347190> 7\n",
      "<pymongo.results.InsertOneResult object at 0x000001BE48582130> 8\n",
      "<pymongo.results.InsertOneResult object at 0x000001BE47CB4550> 9\n",
      "<pymongo.results.InsertOneResult object at 0x000001BE48050280> 10\n",
      "<pymongo.results.InsertOneResult object at 0x000001BE485841C0> 11\n",
      "<pymongo.results.InsertOneResult object at 0x000001BE482856A0> 12\n",
      "<pymongo.results.InsertOneResult object at 0x000001BE48195EB0> 13\n",
      "<pymongo.results.InsertOneResult object at 0x000001BE48285670> 14\n",
      "<pymongo.results.InsertOneResult object at 0x000001BE4635BEE0> 15\n",
      "<pymongo.results.InsertOneResult object at 0x000001BE47CB4B20> 16\n",
      "<pymongo.results.InsertOneResult object at 0x000001BE482856A0> 17\n",
      "<pymongo.results.InsertOneResult object at 0x000001BE486BF9D0> 18\n",
      "<pymongo.results.InsertOneResult object at 0x000001BE486BF8B0> 19\n",
      "<pymongo.results.InsertOneResult object at 0x000001BE48285670> 20\n",
      "<pymongo.results.InsertOneResult object at 0x000001BE48CFCAF0> 21\n",
      "<pymongo.results.InsertOneResult object at 0x000001BE48C74A00> 22\n",
      "<pymongo.results.InsertOneResult object at 0x000001BE48F29280> 23\n",
      "<pymongo.results.InsertOneResult object at 0x000001BE48DC60A0> 24\n",
      "<pymongo.results.InsertOneResult object at 0x000001BE48B39DF0> 25\n",
      "<pymongo.results.InsertOneResult object at 0x000001BE48F29370> 26\n",
      "<pymongo.results.InsertOneResult object at 0x000001BE48DCD100> 27\n",
      "<pymongo.results.InsertOneResult object at 0x000001BE4878CC70> 28\n",
      "<pymongo.results.InsertOneResult object at 0x000001BE48C5ED30> 29\n",
      "<pymongo.results.InsertOneResult object at 0x000001BE48268D90> 30\n"
     ]
    }
   ],
   "source": [
    "#scrap data into mongo\n",
    "i = 1\n",
    "for card in card_names_and_urls[:30]:\n",
    "    name = card['name']\n",
    "    url = card['url']\n",
    "    result = get_scratch_card_info(name, url)\n",
    "    print(db.scratch_cards.insert_one(result), i)\n",
    "    i += 1\n"
   ]
  }
 ],
 "metadata": {
  "kernelspec": {
   "display_name": "Python 3",
   "language": "python",
   "name": "python3"
  },
  "language_info": {
   "codemirror_mode": {
    "name": "ipython",
    "version": 3
   },
   "file_extension": ".py",
   "mimetype": "text/x-python",
   "name": "python",
   "nbconvert_exporter": "python",
   "pygments_lexer": "ipython3",
   "version": "3.9.13"
  },
  "orig_nbformat": 4
 },
 "nbformat": 4,
 "nbformat_minor": 2
}
