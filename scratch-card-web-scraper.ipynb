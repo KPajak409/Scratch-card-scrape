{
 "cells": [
  {
   "cell_type": "code",
   "execution_count": null,
   "metadata": {},
   "outputs": [],
   "source": [
    "import random\n",
    "import time\n",
    "from bs4 import BeautifulSoup \n",
    "import re\n",
    "from MongoDb import MongoDb\n",
    "from datetime import datetime\n",
    "from selenium import webdriver\n",
    "from selenium.webdriver.support.ui import WebDriverWait\n",
    "from selenium.webdriver.common.by import By\n",
    "from selenium.webdriver.support import expected_conditions as EC\n",
    "from selenium.common.exceptions import NoSuchElementException\n",
    "\n",
    "headers = {\"User-Agent\": 'Mozilla/5.0 (Windows NT 10.0; Win64; x64) AppleWebKit/537.36 (KHTML, like Gecko) Chrome/113.0.0.0 Safari/537.36 OPR/99.0.0.0'}\n",
    "db = MongoDb('mongodb://localhost:27017')"
   ]
  },
  {
   "cell_type": "code",
   "execution_count": null,
   "metadata": {},
   "outputs": [],
   "source": [
    "# scraping names and urls of all cards\n",
    "driver = webdriver.Chrome()\n",
    "\n",
    "def check_exists_by_xpath(xpath):\n",
    "    try:\n",
    "        driver.find_element(By.XPATH, '/html/body/div[1]/div/div/div[2]/div/div[3]/div/div[3]/button')\n",
    "    except NoSuchElementException:\n",
    "        return False\n",
    "    return True\n",
    "\n",
    "driver.get('https://www.lotto.pl/zdrapki/katalog-zdrapek')\n",
    "WebDriverWait(driver, 2000).until(EC.element_to_be_clickable((By.XPATH, '/html/body/div[1]/div/div/div[2]/div/div[4]/div[2]/div[3]/div/button'))).click()\n",
    "WebDriverWait(driver, 2000).until(EC.element_to_be_clickable((By.XPATH, '/html/body/div[1]/div/div/div[2]/div/div[2]/div/div/div[2]/button'))).click()\n",
    "time.sleep(3)\n",
    "\n",
    "while(check_exists_by_xpath('/html/body/div[1]/div/div/div[2]/div/div[3]/div/div[3]/button')):\n",
    "    WebDriverWait(driver, 2000).until(EC.element_to_be_clickable((By.XPATH, '/html/body/div[1]/div/div/div[2]/div/div[3]/div/div[3]/button'))).click()\n",
    "    time.sleep(1)\n",
    "content = driver.page_source\n",
    "driver.close()\n",
    "soup = BeautifulSoup(content)\n"
   ]
  },
  {
   "cell_type": "code",
   "execution_count": null,
   "metadata": {},
   "outputs": [],
   "source": [
    "card_divs = soup.find_all('div', class_='scratch-box__item')\n",
    "card_names_and_urls = []\n",
    "for card in card_divs:\n",
    "    card_url = card.findChild('a').get('href')\n",
    "    card_name = card.findChild('div', class_='scratch-card-item__name').findChild('strong').get_text()\n",
    "    card_names_and_urls.append({'name': card_name, 'url': card_url})\n",
    "print(card_names_and_urls)"
   ]
  },
  {
   "cell_type": "code",
   "execution_count": null,
   "metadata": {},
   "outputs": [],
   "source": [
    "#save result to avoid creating more requests\n",
    "import json\n",
    "with open('scratch_card.json', 'w') as outfile:\n",
    "    json.dump(card_names_and_urls, outfile)"
   ]
  },
  {
   "cell_type": "code",
   "execution_count": null,
   "metadata": {},
   "outputs": [],
   "source": [
    "#load result\n",
    "import json\n",
    "with open('scratch_card.json') as json_file:\n",
    "    card_names_and_urls = json.load(json_file)\n",
    "    print(type(card_names_and_urls), card_names_and_urls)"
   ]
  },
  {
   "cell_type": "code",
   "execution_count": null,
   "metadata": {},
   "outputs": [],
   "source": [
    "def get_scratch_card_info(scratch_card_name, scratch_card_url):\n",
    "    #read info about single scratch_card\n",
    "    driver = webdriver.Chrome()\n",
    "    driver.get('https://www.lotto.pl'+scratch_card_url)\n",
    "    content = driver.page_source\n",
    "    time.sleep((random.random()+2)/2)\n",
    "    driver.close()\n",
    "    soup = BeautifulSoup(content)\n",
    "\n",
    "    # scraping information\n",
    "    res = soup.find(string=re.compile('wygrane:')).get_text().replace('\\xa0', '')\n",
    "    pot, circulation = re.findall('(\\d+)', res)\n",
    "\n",
    "    scratch_price_div = soup.find('div', class_='scratch__price')\n",
    "    scratch_price = scratch_price_div.select('strong')[0].get_text().replace('\\xa0', '').replace('zł', '')\n",
    "\n",
    "    date_strong = soup.find('strong', class_='scratch__regulations-disclaimer').get_text()\n",
    "    start_date = re.search(r'(\\d+.\\d+.\\d+)', date_strong) \n",
    "    start_date = start_date.group(1) + ' 0:00:00'\n",
    "    start_date = datetime.strptime(start_date,'%d.%m.%Y %H:%M:%S')\n",
    "    \n",
    "    scratch_card = {'name': scratch_card_name,\n",
    "                    'url': scratch_card_url,\n",
    "                    'scratch_price': int(scratch_price),\n",
    "                    'total_scratch_price': int(scratch_price)*int(circulation),\n",
    "                    #'start_date': start_date.date(),\n",
    "                    'pot': int(pot),\n",
    "                    'circulation': int(circulation),\n",
    "                    'win_values': [],\n",
    "                    'n_wins': [],\n",
    "                    'wins_left': [],\n",
    "                    'last_update': datetime.now()\n",
    "\n",
    "                    }\n",
    "\n",
    "    table = soup.select('table td')\n",
    "\n",
    "    scratch_card['win_values'] = [ int(table[i].get_text().replace('\\xa0', '').replace('zł', '').strip()) for i in range(3, len(table),3)]\n",
    "    scratch_card['n_wins'] = [int(table[i].get_text()) for i in range(4, len(table),3)]\n",
    "    for i in range(5, len(table),3):\n",
    "        text = table[i].get_text()\n",
    "        if text == '-':\n",
    "            text = 0\n",
    "        else:\n",
    "            text = int(text)\n",
    "        scratch_card['wins_left'].append(text)\n",
    "\n",
    "    return scratch_card"
   ]
  },
  {
   "cell_type": "code",
   "execution_count": null,
   "metadata": {},
   "outputs": [],
   "source": [
    "# test\n",
    "name = card_names_and_urls[0]['name']\n",
    "url = card_names_and_urls[0]['url']\n",
    "print(name, url)\n",
    "result = get_scratch_card_info(name, url)"
   ]
  },
  {
   "cell_type": "code",
   "execution_count": null,
   "metadata": {},
   "outputs": [],
   "source": [
    "print(result)"
   ]
  },
  {
   "cell_type": "code",
   "execution_count": null,
   "metadata": {},
   "outputs": [],
   "source": [
    "i = 1\n",
    "for card in card_names_and_urls:\n",
    "    name = card['name']\n",
    "    url = card['url']\n",
    "    result = get_scratch_card_info(name, url)\n",
    "    print(db.scratch_cards.insert_one(result), i)\n",
    "    i += 1\n"
   ]
  }
 ],
 "metadata": {
  "kernelspec": {
   "display_name": "Python 3",
   "language": "python",
   "name": "python3"
  },
  "language_info": {
   "codemirror_mode": {
    "name": "ipython",
    "version": 3
   },
   "file_extension": ".py",
   "mimetype": "text/x-python",
   "name": "python",
   "nbconvert_exporter": "python",
   "pygments_lexer": "ipython3",
   "version": "3.9.13"
  },
  "orig_nbformat": 4
 },
 "nbformat": 4,
 "nbformat_minor": 2
}
